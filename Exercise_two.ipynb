{
 "cells": [
  {
   "cell_type": "code",
   "execution_count": 9,
   "metadata": {},
   "outputs": [
    {
     "name": "stdout",
     "output_type": "stream",
     "text": [
      "Enter your number: 2\n",
      "this number is even\n"
     ]
    }
   ],
   "source": [
    "#Ask the user for a number. Depending on whether the number is even or odd, print out an appropriate message to the user. \n",
    "#Extras:\n",
    "#If the number is a multiple of 4, print out a different message.\n",
    "#Ask the user for two numbers: one number to check (call it num) and one number to divide by (check). If check divides evenly into num, tell that to the user. If not, print a different appropriate message.\n",
    "#part one\n",
    "number=int(input(\"Enter your number: \"))\n",
    "if number%4 == 0:\n",
    "    print(\"your number is multiple of four\")\n",
    "elif number%2 == 0:\n",
    "    print(\"your number is even\")\n",
    "else:\n",
    "    print(\"your number is odd\")\n"
   ]
  },
  {
   "cell_type": "code",
   "execution_count": 13,
   "metadata": {},
   "outputs": [
    {
     "name": "stdout",
     "output_type": "stream",
     "text": [
      "enter your number: 5\n",
      "enter another number: 4\n",
      "5  does not divide evenly into  4\n"
     ]
    }
   ],
   "source": [
    "#part two\n",
    "num=int(input(\"enter your number: \"))\n",
    "check=int(input(\"enter another number: \"))\n",
    "if num%check == 0:\n",
    "    print(num , \" divides evenly into \", check)\n",
    "else:\n",
    "    print(num ,\" does not divide evenly into \", check)"
   ]
  },
  {
   "cell_type": "code",
   "execution_count": null,
   "metadata": {},
   "outputs": [],
   "source": []
  }
 ],
 "metadata": {
  "kernelspec": {
   "display_name": "Python 3",
   "language": "python",
   "name": "python3"
  },
  "language_info": {
   "codemirror_mode": {
    "name": "ipython",
    "version": 3
   },
   "file_extension": ".py",
   "mimetype": "text/x-python",
   "name": "python",
   "nbconvert_exporter": "python",
   "pygments_lexer": "ipython3",
   "version": "3.6.4"
  }
 },
 "nbformat": 4,
 "nbformat_minor": 2
}
