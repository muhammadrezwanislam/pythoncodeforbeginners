{
 "cells": [
  {
   "cell_type": "code",
   "execution_count": 71,
   "metadata": {},
   "outputs": [
    {
     "name": "stdout",
     "output_type": "stream",
     "text": [
      "enter your word: dad\n",
      "dad is palindrome\n"
     ]
    }
   ],
   "source": [
    "#Ask the user for a string and print out whether this string is a palindrome or not. (A palindrome is a string that reads the same forwards and backwards.)\n",
    "word=input(\"enter your word: \")\n",
    "string=str(word)\n",
    "reverse_word=string[::-1]\n",
    "if word == reverse_word:\n",
    "    print(string + \" is palindrome\")\n",
    "else:\n",
    "    print(string+ \" is not palindrome\")"
   ]
  },
  {
   "cell_type": "code",
   "execution_count": null,
   "metadata": {},
   "outputs": [],
   "source": [
    "string = input('Enter a word: ')\n",
    "count = (len(string)) #count the length of a string\n",
    "\n",
    "if count%2 == 0:\n",
    "half = (int(count/2))\n",
    "if ((string[0: half])) == ((string[:(half-1):-1])):\n",
    "print ('The word ' + string + ' is palindrome')\n",
    "else:\n",
    "print ('The word ' + string + ' is not palindrome')\n",
    "else:\n",
    "half = (int(count/2-0.5))\n",
    "if ((string[0: half])) == ((string[:(half):-1])):\n",
    "print ('The word ' + string + ' is palindrome')\n",
    "else:\n",
    "print ('The word ' + string + ' is not palindrome')"
   ]
  }
 ],
 "metadata": {
  "kernelspec": {
   "display_name": "Python 3",
   "language": "python",
   "name": "python3"
  },
  "language_info": {
   "codemirror_mode": {
    "name": "ipython",
    "version": 3
   },
   "file_extension": ".py",
   "mimetype": "text/x-python",
   "name": "python",
   "nbconvert_exporter": "python",
   "pygments_lexer": "ipython3",
   "version": "3.6.4"
  }
 },
 "nbformat": 4,
 "nbformat_minor": 2
}
