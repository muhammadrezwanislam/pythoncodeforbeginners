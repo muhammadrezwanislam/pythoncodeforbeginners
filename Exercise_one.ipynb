{
 "cells": [
  {
   "cell_type": "code",
   "execution_count": 2,
   "metadata": {},
   "outputs": [
    {
     "name": "stdout",
     "output_type": "stream",
     "text": [
      "give me your name: Rezwan\n",
      "enter your age: 28\n",
      "the year Rezwan turns hundred is 2090\n"
     ]
    }
   ],
   "source": [
    "#part one\n",
    "name = input(\"give me your name: \")\n",
    "age=int(input(\"enter your age: \" ))\n",
    "birth_year= 2018-age\n",
    "year_turned_hundred=birth_year+100\n",
    "script= \"the year \"+name+ \" turns hundred is \"+ str(year_turned_hundred)\n",
    "print(script)\n"
   ]
  },
  {
   "cell_type": "code",
   "execution_count": 3,
   "metadata": {},
   "outputs": [
    {
     "name": "stdout",
     "output_type": "stream",
     "text": [
      "enter another number: 5\n",
      "the year Rezwan turns hundred is 2090the year Rezwan turns hundred is 2090the year Rezwan turns hundred is 2090the year Rezwan turns hundred is 2090the year Rezwan turns hundred is 2090\n"
     ]
    }
   ],
   "source": [
    "# part two\n",
    "another_number=int(input(\"enter another number: \"))\n",
    "print(another_number*script)"
   ]
  },
  {
   "cell_type": "code",
   "execution_count": 7,
   "metadata": {},
   "outputs": [
    {
     "name": "stdout",
     "output_type": "stream",
     "text": [
      "enter another number: 4\n",
      "the year Rezwan turns hundred is 2090\n",
      "the year Rezwan turns hundred is 2090\n",
      "the year Rezwan turns hundred is 2090\n",
      "the year Rezwan turns hundred is 2090\n",
      "\n"
     ]
    }
   ],
   "source": [
    "# part three\n",
    "another_number=int(input(\"enter another number: \"))\n",
    "print(another_number*(script+\"\\n\"))"
   ]
  },
  {
   "cell_type": "code",
   "execution_count": 7,
   "metadata": {},
   "outputs": [
    {
     "data": {
      "text/plain": [
       "2.5"
      ]
     },
     "execution_count": 7,
     "metadata": {},
     "output_type": "execute_result"
    }
   ],
   "source": []
  },
  {
   "cell_type": "code",
   "execution_count": null,
   "metadata": {},
   "outputs": [],
   "source": []
  }
 ],
 "metadata": {
  "kernelspec": {
   "display_name": "Python 3",
   "language": "python",
   "name": "python3"
  },
  "language_info": {
   "codemirror_mode": {
    "name": "ipython",
    "version": 3
   },
   "file_extension": ".py",
   "mimetype": "text/x-python",
   "name": "python",
   "nbconvert_exporter": "python",
   "pygments_lexer": "ipython3",
   "version": "3.6.4"
  }
 },
 "nbformat": 4,
 "nbformat_minor": 2
}
